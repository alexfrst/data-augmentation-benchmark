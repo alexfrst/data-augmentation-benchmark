{
 "cells": [
  {
   "cell_type": "code",
   "execution_count": null,
   "metadata": {
    "collapsed": true
   },
   "outputs": [],
   "source": [
    "! pip install kaggle wget"
   ]
  },
  {
   "cell_type": "code",
   "execution_count": null,
   "outputs": [],
   "source": [
    "! nvidia-smi"
   ],
   "metadata": {
    "collapsed": false,
    "pycharm": {
     "name": "#%%\n"
    }
   }
  },
  {
   "cell_type": "code",
   "execution_count": null,
   "outputs": [],
   "source": [
    "! mkdir ~ /.kaggle"
   ],
   "metadata": {
    "collapsed": false,
    "pycharm": {
     "name": "#%%\n"
    }
   }
  },
  {
   "cell_type": "code",
   "execution_count": null,
   "outputs": [],
   "source": [
    "! cp kaggle.json ~/.kaggle\n",
    "! chmod 600 ~/.kaggle/kaggle.json\n",
    "! kaggle datasets download -d gverzea/edible-wild-plants\n",
    "! unzip /content/edible-wild-plants.zip"
   ],
   "metadata": {
    "collapsed": false,
    "pycharm": {
     "name": "#%%\n"
    }
   }
  },
  {
   "cell_type": "code",
   "execution_count": null,
   "outputs": [],
   "source": [
    "!git clone https://github.com/alexfrst/data-augmentation-benchmark"
   ],
   "metadata": {
    "collapsed": false,
    "pycharm": {
     "name": "#%%\n"
    }
   }
  },
  {
   "cell_type": "code",
   "execution_count": 3,
   "outputs": [
    {
     "name": "stdout",
     "output_type": "stream",
     "text": [
      "Working on cuda:0 \u001B[92m✓\u001B[0m\n",
      "Loading dataset...\n",
      "Nombre d'images de train : 5902\n",
      "Nombre d'images de val : 656\n",
      "Nombre d'images de test : 310\n",
      "Apprentissage sur 62 classes\n",
      "Data loading and integrity check done \u001B[92m✓\u001B[0m\n",
      "Apprentissage en transfer learning\n"
     ]
    },
    {
     "name": "stderr",
     "output_type": "stream",
     "text": [
      "Epoch 0: 3it [01:22, 25.47s/it, Acc (val)=0.317, loss train=4.15, loss val=4.16]Exception ignored in: <function _MultiProcessingDataLoaderIter.__del__ at 0x000001F6CECC6A70>\n",
      "Traceback (most recent call last):\n",
      "  File \"C:\\Users\\alexf\\anaconda3\\envs\\AdIA\\lib\\site-packages\\torch\\utils\\data\\dataloader.py\", line 1358, in __del__\n",
      "    self._shutdown_workers()\n",
      "  File \"C:\\Users\\alexf\\anaconda3\\envs\\AdIA\\lib\\site-packages\\torch\\utils\\data\\dataloader.py\", line 1322, in _shutdown_workers\n",
      "    w.join(timeout=_utils.MP_STATUS_CHECK_INTERVAL)\n",
      "  File \"C:\\Users\\alexf\\anaconda3\\envs\\AdIA\\lib\\multiprocessing\\process.py\", line 149, in join\n",
      "    res = self._popen.wait(timeout)\n",
      "  File \"C:\\Users\\alexf\\anaconda3\\envs\\AdIA\\lib\\multiprocessing\\popen_spawn_win32.py\", line 108, in wait\n",
      "    res = _winapi.WaitForSingleObject(int(self._handle), msecs)\n",
      "KeyboardInterrupt: \n",
      "Epoch 0: 3it [01:35, 31.98s/it, Acc (val)=0.317, loss train=4.15, loss val=4.16]\n",
      "\n",
      "KeyboardInterrupt\n",
      "\n"
     ]
    }
   ],
   "source": [
    "import sys\n",
    "\n",
    "import torch\n",
    "import torch.nn as nn\n",
    "import torch.optim as optim\n",
    "from tqdm import tqdm\n",
    "\n",
    "sys.path.append(\"data-augmentation-benchmark\")\n",
    "\n",
    "import model.model as model\n",
    "from model.evaluate import evaluate\n",
    "from model.train import train_model\n",
    "from utils.dataset import load_dataset\n",
    "from utils.print_utils import Symbols\n",
    "\n",
    "\n",
    "device = torch.device(\"cuda:0\" if torch.cuda.is_available() else \"cpu\")\n",
    "\n",
    "print(f\"Working on {device} {Symbols.OK}\")\n",
    "\n",
    "train_loader, val_loader, test_loader, nb_classes = load_dataset(\"datasets/dataset\", \"datasets/dataset-test\", batch_size=85)\n",
    "inception_v3 = model.load_inception_for_tl(nb_classes, device)\n",
    "criterion = nn.CrossEntropyLoss()\n",
    "optimizer = optim.SGD(inception_v3.AuxLogits.fc.parameters(), lr=0.001, momentum=0.9)\n",
    "\n",
    "print(\"Apprentissage en transfer learning\")\n",
    "inception_v3.to(device)\n",
    "inception_v3.train(True)\n",
    "torch.manual_seed(42)\n",
    "\n",
    "train_model(inception_v3, train_loader, val_loader, optimizer, criterion, evaluate, 65, device=device)\n",
    "inception_v3.train(False)\n",
    "loss, accuracy = evaluate(inception_v3, test_loader, device, criterion)\n",
    "print(\"Accuracy (test): %.1f%%\" % (100 * accuracy))"
   ],
   "metadata": {
    "collapsed": false,
    "pycharm": {
     "name": "#%%\n"
    }
   }
  },
  {
   "cell_type": "code",
   "execution_count": null,
   "outputs": [],
   "source": [],
   "metadata": {
    "collapsed": false,
    "pycharm": {
     "name": "#%%\n"
    }
   }
  }
 ],
 "metadata": {
  "kernelspec": {
   "display_name": "Python 3",
   "language": "python",
   "name": "python3"
  },
  "language_info": {
   "codemirror_mode": {
    "name": "ipython",
    "version": 2
   },
   "file_extension": ".py",
   "mimetype": "text/x-python",
   "name": "python",
   "nbconvert_exporter": "python",
   "pygments_lexer": "ipython2",
   "version": "2.7.6"
  }
 },
 "nbformat": 4,
 "nbformat_minor": 0
}