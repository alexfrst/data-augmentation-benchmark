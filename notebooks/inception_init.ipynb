{
 "cells": [
  {
   "cell_type": "code",
   "execution_count": null,
   "metadata": {
    "collapsed": true
   },
   "outputs": [],
   "source": []
  },
  {
   "cell_type": "code",
   "execution_count": 3,
   "outputs": [
    {
     "name": "stdout",
     "output_type": "stream",
     "text": [
      "Working on cuda:0 \u001B[92m✓\u001B[0m\n",
      "Loading dataset...\n",
      "Nombre d'images de train : 5902\n",
      "Nombre d'images de val : 656\n",
      "Nombre d'images de test : 310\n",
      "Apprentissage sur 62 classes\n",
      "Data loading and integrity check done \u001B[92m✓\u001B[0m\n",
      "Apprentissage en transfer learning\n"
     ]
    },
    {
     "name": "stderr",
     "output_type": "stream",
     "text": [
      "Epoch 0: 3it [01:22, 25.47s/it, Acc (val)=0.317, loss train=4.15, loss val=4.16]Exception ignored in: <function _MultiProcessingDataLoaderIter.__del__ at 0x000001F6CECC6A70>\n",
      "Traceback (most recent call last):\n",
      "  File \"C:\\Users\\alexf\\anaconda3\\envs\\AdIA\\lib\\site-packages\\torch\\utils\\data\\dataloader.py\", line 1358, in __del__\n",
      "    self._shutdown_workers()\n",
      "  File \"C:\\Users\\alexf\\anaconda3\\envs\\AdIA\\lib\\site-packages\\torch\\utils\\data\\dataloader.py\", line 1322, in _shutdown_workers\n",
      "    w.join(timeout=_utils.MP_STATUS_CHECK_INTERVAL)\n",
      "  File \"C:\\Users\\alexf\\anaconda3\\envs\\AdIA\\lib\\multiprocessing\\process.py\", line 149, in join\n",
      "    res = self._popen.wait(timeout)\n",
      "  File \"C:\\Users\\alexf\\anaconda3\\envs\\AdIA\\lib\\multiprocessing\\popen_spawn_win32.py\", line 108, in wait\n",
      "    res = _winapi.WaitForSingleObject(int(self._handle), msecs)\n",
      "KeyboardInterrupt: \n",
      "Epoch 0: 3it [01:35, 31.98s/it, Acc (val)=0.317, loss train=4.15, loss val=4.16]\n",
      "\n",
      "KeyboardInterrupt\n",
      "\n"
     ]
    }
   ],
   "source": [
    "import torch\n",
    "import torch.nn as nn\n",
    "import torch.optim as optim\n",
    "from tqdm import tqdm\n",
    "\n",
    "import model.model as model\n",
    "from model.evaluate import evaluate\n",
    "from utils.dataset import load_dataset\n",
    "from utils.print_utils import Symbols\n",
    "\n",
    "\n",
    "def train_model(model, loader_train, data_val, optimizer, criterion, evaluate, n_epochs=10, device='cpu',\n",
    "                notebook=False):\n",
    "    for epoch in range(n_epochs):  # à chaque epochs\n",
    "        with tqdm(enumerate(loader_train), desc=f\"Epoch {epoch}\") as pbar:\n",
    "            for i, data in pbar:\n",
    "                inputs, labels = data\n",
    "                inputs, labels = inputs.to(device), labels.to(device)  # on passe les données sur CPU / GPU\n",
    "                optimizer.zero_grad()  # on réinitialise les gradients\n",
    "                outputs, _ = model(inputs)  # on calcule l'output\n",
    "\n",
    "                loss = criterion(outputs, labels)  # on calcule la loss\n",
    "                loss_val, accuracy = evaluate(model, data_val, device, criterion)\n",
    "                pbar.set_postfix(**{\"loss train\": loss.item(), \"loss val\": loss_val, \"Acc (val)\": accuracy})\n",
    "\n",
    "                loss.backward()  # on effectue la backprop pour calculer les gradients\n",
    "                optimizer.step()\n",
    "\n",
    "\n",
    "device = torch.device(\"cuda:0\" if torch.cuda.is_available() else \"cpu\")\n",
    "\n",
    "print(f\"Working on {device} {Symbols.OK}\")\n",
    "\n",
    "train_loader, val_loader, test_loader, nb_classes = load_dataset()\n",
    "inception_v3 = model.load_inception_for_tl(nb_classes, device)\n",
    "criterion = nn.CrossEntropyLoss()\n",
    "optimizer = optim.SGD(inception_v3.AuxLogits.fc.parameters(), lr=0.001, momentum=0.9)\n",
    "\n",
    "print(\"Apprentissage en transfer learning\")\n",
    "inception_v3.to(device)\n",
    "inception_v3.train(True)\n",
    "torch.manual_seed(42)\n",
    "\n",
    "train_model(inception_v3, train_loader, val_loader, optimizer, criterion, evaluate, 65, device=device)\n",
    "# train_model(inception_v3, criterion, optimizer, None, num_epochs=65, is_inception=True)\n",
    "inception_v3.train(False)\n",
    "loss, accuracy = evaluate(inception_v3, test_loader, device, criterion)\n",
    "print(\"Accuracy (test): %.1f%%\" % (100 * accuracy))"
   ],
   "metadata": {
    "collapsed": false,
    "pycharm": {
     "name": "#%%\n"
    }
   }
  },
  {
   "cell_type": "code",
   "execution_count": null,
   "outputs": [],
   "source": [],
   "metadata": {
    "collapsed": false,
    "pycharm": {
     "name": "#%%\n"
    }
   }
  }
 ],
 "metadata": {
  "kernelspec": {
   "display_name": "Python 3",
   "language": "python",
   "name": "python3"
  },
  "language_info": {
   "codemirror_mode": {
    "name": "ipython",
    "version": 2
   },
   "file_extension": ".py",
   "mimetype": "text/x-python",
   "name": "python",
   "nbconvert_exporter": "python",
   "pygments_lexer": "ipython2",
   "version": "2.7.6"
  }
 },
 "nbformat": 4,
 "nbformat_minor": 0
}